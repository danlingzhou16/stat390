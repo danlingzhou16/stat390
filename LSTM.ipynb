{
  "nbformat": 4,
  "nbformat_minor": 0,
  "metadata": {
    "colab": {
      "provenance": [],
      "authorship_tag": "ABX9TyOykoSWtMRMgqFFJb0ULdRu",
      "include_colab_link": true
    },
    "kernelspec": {
      "name": "python3",
      "display_name": "Python 3"
    },
    "language_info": {
      "name": "python"
    }
  },
  "cells": [
    {
      "cell_type": "markdown",
      "metadata": {
        "id": "view-in-github",
        "colab_type": "text"
      },
      "source": [
        "<a href=\"https://colab.research.google.com/github/danlingzhou16/stat390/blob/GraceZhu/LSTM.ipynb\" target=\"_parent\"><img src=\"https://colab.research.google.com/assets/colab-badge.svg\" alt=\"Open In Colab\"/></a>"
      ]
    },
    {
      "cell_type": "code",
      "execution_count": 1,
      "metadata": {
        "id": "wqnq_0JmW978"
      },
      "outputs": [],
      "source": [
        "%matplotlib inline\n",
        "import pandas as pd\n",
        "import numpy as np\n",
        "import seaborn as sns\n",
        "import matplotlib.pyplot as plt\n",
        "import keras\n",
        "import time\n",
        "from sklearn.metrics import mean_squared_error, mean_absolute_error\n",
        "from sklearn.preprocessing import MinMaxScaler"
      ]
    },
    {
      "cell_type": "code",
      "source": [
        "def MAPE(y_true, y_pred):\n",
        "  y_true, y_pred = np.array(y_true), np.array(y_pred)\n",
        "  return np.mean(np.abs((y_true-y_pred)/y_true)) * 100\n",
        "def model_performance(y_true, y_pred):\n",
        "  rmse = np.sqrt(mean_squared_error(y_true, y_pred))\n",
        "  mape = MAPE(y_true, y_pred)\n",
        "  return f\"RMSE: {rmse}, MAPE: {mape}\""
      ],
      "metadata": {
        "id": "iN4gW0ifbYi1"
      },
      "execution_count": 2,
      "outputs": []
    },
    {
      "cell_type": "code",
      "source": [
        "from google.colab import drive\n",
        "drive.mount('/content/gdrive')"
      ],
      "metadata": {
        "colab": {
          "base_uri": "https://localhost:8080/"
        },
        "id": "fOJDfSSibaVY",
        "outputId": "7d20cddd-68b1-4fd0-b964-3ebb92457087"
      },
      "execution_count": 3,
      "outputs": [
        {
          "output_type": "stream",
          "name": "stdout",
          "text": [
            "Mounted at /content/gdrive\n"
          ]
        }
      ]
    },
    {
      "cell_type": "code",
      "source": [
        "train = pd.read_csv('/content/gdrive/MyDrive/complete covid dataset/train_final.csv', index_col=['date'], parse_dates = ['date'])\n",
        "test = pd.read_csv('/content/gdrive/MyDrive/complete covid dataset/test_final.csv', index_col=['date'], parse_dates = ['date'])"
      ],
      "metadata": {
        "id": "t7cucXVqbcAK"
      },
      "execution_count": 147,
      "outputs": []
    },
    {
      "cell_type": "code",
      "source": [
        "# Feature Engineering same as for multivariate prophet"
      ],
      "metadata": {
        "id": "ru_q4rHA2bBf"
      },
      "execution_count": 148,
      "outputs": []
    },
    {
      "cell_type": "code",
      "source": [
        "train = train[~(train.index < '2020-03-01')]\n",
        "test = test[~(test.index < '2020-03-01')]"
      ],
      "metadata": {
        "id": "D4ZocEhD-69T"
      },
      "execution_count": 149,
      "outputs": []
    },
    {
      "cell_type": "code",
      "source": [
        "# drop useless columns\n",
        "train_dropped = train.drop(columns = ['Unnamed: 0.1', 'Unnamed: 0', 'day_name', 'new_confirmed_mean1', 'new_confirmed_max1', 'new_confirmed_min1', 'new_confirmed_std1'])\n",
        "test_dropped = test.drop(columns = ['Unnamed: 0.1', 'Unnamed: 0', 'day_name', 'new_confirmed_mean1', 'new_confirmed_max1', 'new_confirmed_min1', 'new_confirmed_std1'])"
      ],
      "metadata": {
        "id": "ibB8QExF_nbX"
      },
      "execution_count": 150,
      "outputs": []
    },
    {
      "cell_type": "code",
      "source": [
        "train_prepared = train_dropped[[\n",
        " 'country_code',\n",
        " 'new_deceased',\n",
        " 'cumulative_deceased',\n",
        " 'population',\n",
        " 'population_male',\n",
        " 'population_female',\n",
        " 'area_sq_km',\n",
        " 'life_expectancy',\n",
        " 'mobility_workplaces',\n",
        " 'new_persons_fully_vaccinated',\n",
        " 'cumulative_persons_fully_vaccinated',\n",
        " 'new_confirmed',\n",
        " 'new_confirmed_lag1',\n",
        " 'new_confirmed_lag3',\n",
        " 'new_confirmed_lag7',\n",
        " 'new_confirmed_mean3',\n",
        " 'new_confirmed_mean7',\n",
        " 'new_confirmed_std3',\n",
        " 'new_confirmed_std7',\n",
        " 'new_confirmed_max3',\n",
        " 'new_confirmed_max7',\n",
        " 'new_confirmed_min3',\n",
        " 'new_confirmed_min7',\n",
        " 'day_of_week',\n",
        " 'quarter',\n",
        " 'month',\n",
        " 'year',\n",
        " 'dayofyear',\n",
        " 'dayofmonth',\n",
        " 'weekofyear',\n",
        " 'season']]\n"
      ],
      "metadata": {
        "id": "oTdkLa1__qvE"
      },
      "execution_count": 151,
      "outputs": []
    },
    {
      "cell_type": "code",
      "source": [
        "test_prepared = test_dropped[[\n",
        " 'country_code',\n",
        " 'new_deceased',\n",
        " 'cumulative_deceased',\n",
        " 'population',\n",
        " 'population_male',\n",
        " 'population_female',\n",
        " 'area_sq_km',\n",
        " 'life_expectancy',\n",
        " 'mobility_workplaces',\n",
        " 'new_persons_fully_vaccinated',\n",
        " 'cumulative_persons_fully_vaccinated',\n",
        " 'new_confirmed',\n",
        " 'new_confirmed_lag1',\n",
        " 'new_confirmed_lag3',\n",
        " 'new_confirmed_lag7',\n",
        " 'new_confirmed_mean3',\n",
        " 'new_confirmed_mean7',\n",
        " 'new_confirmed_std3',\n",
        " 'new_confirmed_std7',\n",
        " 'new_confirmed_max3',\n",
        " 'new_confirmed_max7',\n",
        " 'new_confirmed_min3',\n",
        " 'new_confirmed_min7',\n",
        " 'day_of_week',\n",
        " 'quarter',\n",
        " 'month',\n",
        " 'year',\n",
        " 'dayofyear',\n",
        " 'dayofmonth',\n",
        " 'weekofyear',\n",
        " 'season']]"
      ],
      "metadata": {
        "id": "d5VdWFhq7nyK"
      },
      "execution_count": 152,
      "outputs": []
    },
    {
      "cell_type": "code",
      "source": [
        "# one hot encoding\n",
        "train_prepared = pd.get_dummies(train_prepared, columns=['country_code', 'season'])\n"
      ],
      "metadata": {
        "id": "TgACbhMQC1HO"
      },
      "execution_count": 153,
      "outputs": []
    },
    {
      "cell_type": "code",
      "source": [
        "test_prepared = pd.get_dummies(test_prepared, columns=['country_code', 'season'])"
      ],
      "metadata": {
        "id": "F9UkVKug7qW6"
      },
      "execution_count": 154,
      "outputs": []
    },
    {
      "cell_type": "code",
      "source": [
        "plt.hist(train_prepared.new_confirmed, bins=30, edgecolor='black', alpha=0.7)"
      ],
      "metadata": {
        "colab": {
          "base_uri": "https://localhost:8080/",
          "height": 690
        },
        "id": "zAlwjhkqAqxa",
        "outputId": "17b61174-efbd-4f8e-f4df-ab2d5dc31bcc"
      },
      "execution_count": 155,
      "outputs": [
        {
          "output_type": "execute_result",
          "data": {
            "text/plain": [
              "(array([6.1889e+04, 3.1850e+03, 1.0420e+03, 4.7800e+02, 1.7800e+02,\n",
              "        9.8000e+01, 9.2000e+01, 4.6000e+01, 3.2000e+01, 2.0000e+01,\n",
              "        2.1000e+01, 1.8000e+01, 7.0000e+00, 6.0000e+00, 6.0000e+00,\n",
              "        2.0000e+00, 4.0000e+00, 9.0000e+00, 6.0000e+00, 4.0000e+00,\n",
              "        1.0000e+00, 1.0000e+00, 0.0000e+00, 0.0000e+00, 2.0000e+00,\n",
              "        1.0000e+00, 1.0000e+00, 2.0000e+00, 0.0000e+00, 1.0000e+00]),\n",
              " array([    0.        ,  2872.06666667,  5744.13333333,  8616.2       ,\n",
              "        11488.26666667, 14360.33333333, 17232.4       , 20104.46666667,\n",
              "        22976.53333333, 25848.6       , 28720.66666667, 31592.73333333,\n",
              "        34464.8       , 37336.86666667, 40208.93333333, 43081.        ,\n",
              "        45953.06666667, 48825.13333333, 51697.2       , 54569.26666667,\n",
              "        57441.33333333, 60313.4       , 63185.46666667, 66057.53333333,\n",
              "        68929.6       , 71801.66666667, 74673.73333333, 77545.8       ,\n",
              "        80417.86666667, 83289.93333333, 86162.        ]),\n",
              " <BarContainer object of 30 artists>)"
            ]
          },
          "metadata": {},
          "execution_count": 155
        },
        {
          "output_type": "display_data",
          "data": {
            "text/plain": [
              "<Figure size 640x480 with 1 Axes>"
            ],
            "image/png": "[encoded data removed]"
          },
          "metadata": {}
        }
      ]
    },
    {
      "cell_type": "code",
      "source": [
        "train_prepared.isnull().sum().sort_values(ascending = False)"
      ],
      "metadata": {
        "colab": {
          "base_uri": "https://localhost:8080/"
        },
        "id": "CLXxX5ylvOms",
        "outputId": "7a7709b9-63a3-4680-f934-cf0032a398be"
      },
      "execution_count": 156,
      "outputs": [
        {
          "output_type": "execute_result",
          "data": {
            "text/plain": [
              "new_confirmed_lag7                     102\n",
              "new_confirmed_mean7                     66\n",
              "new_confirmed_max7                      66\n",
              "new_confirmed_std7                      66\n",
              "new_confirmed_min7                      66\n",
              "new_confirmed_lag3                      33\n",
              "new_confirmed_max3                      22\n",
              "new_confirmed_min3                      22\n",
              "new_confirmed_mean3                     22\n",
              "new_confirmed_std3                      22\n",
              "new_confirmed_lag1                      11\n",
              "country_code_US                          0\n",
              "country_code_AU                          0\n",
              "country_code_CH                          0\n",
              "country_code_DK                          0\n",
              "country_code_IE                          0\n",
              "season_Summer                            0\n",
              "season_Autumn                            0\n",
              "season_Spring                            0\n",
              "country_code_SG                          0\n",
              "dayofmonth                               0\n",
              "country_code_IS                          0\n",
              "country_code_LU                          0\n",
              "country_code_NO                          0\n",
              "country_code_QA                          0\n",
              "weekofyear                               0\n",
              "new_deceased                             0\n",
              "dayofyear                                0\n",
              "year                                     0\n",
              "month                                    0\n",
              "quarter                                  0\n",
              "day_of_week                              0\n",
              "cumulative_deceased                      0\n",
              "new_confirmed                            0\n",
              "cumulative_persons_fully_vaccinated      0\n",
              "new_persons_fully_vaccinated             0\n",
              "mobility_workplaces                      0\n",
              "life_expectancy                          0\n",
              "area_sq_km                               0\n",
              "population_female                        0\n",
              "population_male                          0\n",
              "population                               0\n",
              "season_Winter                            0\n",
              "dtype: int64"
            ]
          },
          "metadata": {},
          "execution_count": 156
        }
      ]
    },
    {
      "cell_type": "code",
      "source": [
        "# put zeros to missing lagging features\n",
        "train_prepared.fillna(0, inplace = True)\n",
        "test_prepared.fillna(0, inplace = True)"
      ],
      "metadata": {
        "id": "P_EYMkQSvojz"
      },
      "execution_count": 157,
      "outputs": []
    },
    {
      "cell_type": "code",
      "source": [
        "test_prepared.isnull().sum().sort_values(ascending = False)"
      ],
      "metadata": {
        "colab": {
          "base_uri": "https://localhost:8080/"
        },
        "id": "fiNMEksQ7VMA",
        "outputId": "cf29b595-4758-4a1a-b203-38766dc7b47c"
      },
      "execution_count": 158,
      "outputs": [
        {
          "output_type": "execute_result",
          "data": {
            "text/plain": [
              "new_deceased                           0\n",
              "country_code_IE                        0\n",
              "month                                  0\n",
              "year                                   0\n",
              "dayofyear                              0\n",
              "dayofmonth                             0\n",
              "weekofyear                             0\n",
              "country_code_AU                        0\n",
              "country_code_CH                        0\n",
              "country_code_DK                        0\n",
              "country_code_IS                        0\n",
              "day_of_week                            0\n",
              "country_code_LU                        0\n",
              "country_code_NO                        0\n",
              "country_code_QA                        0\n",
              "country_code_SG                        0\n",
              "country_code_US                        0\n",
              "season_Autumn                          0\n",
              "season_Spring                          0\n",
              "season_Summer                          0\n",
              "quarter                                0\n",
              "new_confirmed_min7                     0\n",
              "cumulative_deceased                    0\n",
              "new_confirmed                          0\n",
              "population                             0\n",
              "population_male                        0\n",
              "population_female                      0\n",
              "area_sq_km                             0\n",
              "life_expectancy                        0\n",
              "mobility_workplaces                    0\n",
              "new_persons_fully_vaccinated           0\n",
              "cumulative_persons_fully_vaccinated    0\n",
              "new_confirmed_lag1                     0\n",
              "new_confirmed_min3                     0\n",
              "new_confirmed_lag3                     0\n",
              "new_confirmed_lag7                     0\n",
              "new_confirmed_mean3                    0\n",
              "new_confirmed_mean7                    0\n",
              "new_confirmed_std3                     0\n",
              "new_confirmed_std7                     0\n",
              "new_confirmed_max3                     0\n",
              "new_confirmed_max7                     0\n",
              "season_Winter                          0\n",
              "dtype: int64"
            ]
          },
          "metadata": {},
          "execution_count": 158
        }
      ]
    },
    {
      "cell_type": "code",
      "source": [
        "train_prepared.isnull().sum().sort_values(ascending = False)"
      ],
      "metadata": {
        "colab": {
          "base_uri": "https://localhost:8080/"
        },
        "id": "xtWiD_oMwH9q",
        "outputId": "a12d877d-5609-4cc9-afdc-8939faac31a6"
      },
      "execution_count": 159,
      "outputs": [
        {
          "output_type": "execute_result",
          "data": {
            "text/plain": [
              "new_deceased                           0\n",
              "country_code_IE                        0\n",
              "month                                  0\n",
              "year                                   0\n",
              "dayofyear                              0\n",
              "dayofmonth                             0\n",
              "weekofyear                             0\n",
              "country_code_AU                        0\n",
              "country_code_CH                        0\n",
              "country_code_DK                        0\n",
              "country_code_IS                        0\n",
              "day_of_week                            0\n",
              "country_code_LU                        0\n",
              "country_code_NO                        0\n",
              "country_code_QA                        0\n",
              "country_code_SG                        0\n",
              "country_code_US                        0\n",
              "season_Autumn                          0\n",
              "season_Spring                          0\n",
              "season_Summer                          0\n",
              "quarter                                0\n",
              "new_confirmed_min7                     0\n",
              "cumulative_deceased                    0\n",
              "new_confirmed                          0\n",
              "population                             0\n",
              "population_male                        0\n",
              "population_female                      0\n",
              "area_sq_km                             0\n",
              "life_expectancy                        0\n",
              "mobility_workplaces                    0\n",
              "new_persons_fully_vaccinated           0\n",
              "cumulative_persons_fully_vaccinated    0\n",
              "new_confirmed_lag1                     0\n",
              "new_confirmed_min3                     0\n",
              "new_confirmed_lag3                     0\n",
              "new_confirmed_lag7                     0\n",
              "new_confirmed_mean3                    0\n",
              "new_confirmed_mean7                    0\n",
              "new_confirmed_std3                     0\n",
              "new_confirmed_std7                     0\n",
              "new_confirmed_max3                     0\n",
              "new_confirmed_max7                     0\n",
              "season_Winter                          0\n",
              "dtype: int64"
            ]
          },
          "metadata": {},
          "execution_count": 159
        }
      ]
    },
    {
      "cell_type": "code",
      "source": [
        "# the data is skewed to the right -> let's do normalization\n",
        "def normalize(df):\n",
        "    for col in df.columns:\n",
        "        if col != 'new_confirmed':\n",
        "            df[col]=(df[col]-df[col].mean())/df[col].std()\n",
        "    return df\n",
        "train_prepared=normalize(train_prepared)\n"
      ],
      "metadata": {
        "id": "pD7vOKe5BwCa"
      },
      "execution_count": 160,
      "outputs": []
    },
    {
      "cell_type": "code",
      "source": [
        "test_prepared=normalize(test_prepared)"
      ],
      "metadata": {
        "id": "3EbvjfMD7v0g"
      },
      "execution_count": 161,
      "outputs": []
    },
    {
      "cell_type": "code",
      "source": [
        "def make_series(data):\n",
        "    series=[]\n",
        "    for i in range(14, len(data)+1):\n",
        "        subdf=data[(i-14):i]\n",
        "        series.append((data.index[i-1], data['new_confirmed'].values[i-1], subdf.drop('new_confirmed', axis=1).values))\n",
        "    return series"
      ],
      "metadata": {
        "id": "DxlNTKS_GFco"
      },
      "execution_count": 162,
      "outputs": []
    },
    {
      "cell_type": "code",
      "source": [
        "train_prepared=make_series(train_prepared)"
      ],
      "metadata": {
        "id": "FYaHLIvwDH2v"
      },
      "execution_count": 163,
      "outputs": []
    },
    {
      "cell_type": "code",
      "source": [
        "test_prepared=make_series(test_prepared)"
      ],
      "metadata": {
        "id": "ZMKMSBXk7ity"
      },
      "execution_count": 164,
      "outputs": []
    },
    {
      "cell_type": "code",
      "source": [
        "print(train_prepared[0][0],train_prepared[0][1].shape,train_prepared[0][2].shape)"
      ],
      "metadata": {
        "colab": {
          "base_uri": "https://localhost:8080/"
        },
        "id": "N9_aMPoCIjS7",
        "outputId": "dca22146-4bd3-4730-bc5e-35c7f81cdc28"
      },
      "execution_count": 165,
      "outputs": [
        {
          "output_type": "stream",
          "name": "stdout",
          "text": [
            "2020-03-14 00:00:00 () (14, 42)\n"
          ]
        }
      ]
    },
    {
      "cell_type": "code",
      "source": [
        "learning_rate = 0.01\n",
        "batch_size = 32\n",
        "epochs = 100\n",
        "sequence_length =14"
      ],
      "metadata": {
        "id": "8R-1C_JuHx0t"
      },
      "execution_count": 167,
      "outputs": []
    },
    {
      "cell_type": "code",
      "source": [
        "inputs = keras.layers.Input(shape=(14,42))\n",
        "lstm_out = keras.layers.LSTM(32)(inputs)\n",
        "outputs = keras.layers.Dense(1)(lstm_out)\n",
        "\n",
        "model = keras.Model(inputs=inputs, outputs=outputs)\n",
        "model.compile(optimizer=keras.optimizers.Adam(learning_rate=learning_rate), loss=\"mse\")\n",
        "model.summary()"
      ],
      "metadata": {
        "colab": {
          "base_uri": "https://localhost:8080/"
        },
        "id": "gXOaqfgPKQjg",
        "outputId": "e636e405-639a-42be-903c-f734231fa918"
      },
      "execution_count": 168,
      "outputs": [
        {
          "output_type": "stream",
          "name": "stdout",
          "text": [
            "Model: \"model_7\"\n",
            "_________________________________________________________________\n",
            " Layer (type)                Output Shape              Param #   \n",
            "=================================================================\n",
            " input_8 (InputLayer)        [(None, 14, 42)]          0         \n",
            "                                                                 \n",
            " lstm_7 (LSTM)               (None, 32)                9600      \n",
            "                                                                 \n",
            " dense_7 (Dense)             (None, 1)                 33        \n",
            "                                                                 \n",
            "=================================================================\n",
            "Total params: 9633 (37.63 KB)\n",
            "Trainable params: 9633 (37.63 KB)\n",
            "Non-trainable params: 0 (0.00 Byte)\n",
            "_________________________________________________________________\n"
          ]
        }
      ]
    },
    {
      "cell_type": "code",
      "source": [
        "x=np.array([x[2].reshape(14,42) for x in train_prepared])\n",
        "y=np.array([x[1] for x in train_prepared])\n",
        "print(x.shape)\n",
        "print(y.shape)\n",
        "history = model.fit(\n",
        "    x=x,y=y,\n",
        "    epochs=epochs,\n",
        "    batch_size=batch_size,\n",
        "    shuffle=True,\n",
        ")"
      ],
      "metadata": {
        "colab": {
          "base_uri": "https://localhost:8080/"
        },
        "id": "yv_4sCI9KsCG",
        "outputId": "3eb67247-ab16-4acc-ec30-357f6ada8f89"
      },
      "execution_count": 169,
      "outputs": [
        {
          "output_type": "stream",
          "name": "stdout",
          "text": [
            "(67139, 14, 42)\n",
            "(67139,)\n",
            "Epoch 1/100\n",
            "2099/2099 [==============================] - 18s 8ms/step - loss: 6975523.5000\n",
            "Epoch 2/100\n",
            "2099/2099 [==============================] - 16s 8ms/step - loss: 6297558.0000\n",
            "Epoch 3/100\n",
            "2099/2099 [==============================] - 16s 8ms/step - loss: 5766721.5000\n",
            "Epoch 4/100\n",
            "2099/2099 [==============================] - 17s 8ms/step - loss: 5339324.0000\n",
            "Epoch 5/100\n",
            "2099/2099 [==============================] - 17s 8ms/step - loss: 4981050.5000\n",
            "Epoch 6/100\n",
            "2099/2099 [==============================] - 16s 8ms/step - loss: 4677814.5000\n",
            "Epoch 7/100\n",
            "2099/2099 [==============================] - 16s 8ms/step - loss: 4418370.5000\n",
            "Epoch 8/100\n",
            "2099/2099 [==============================] - 16s 8ms/step - loss: 4185919.0000\n",
            "Epoch 9/100\n",
            "2099/2099 [==============================] - 17s 8ms/step - loss: 3989523.2500\n",
            "Epoch 10/100\n",
            "2099/2099 [==============================] - 16s 8ms/step - loss: 3816238.2500\n",
            "Epoch 11/100\n",
            "2099/2099 [==============================] - 16s 8ms/step - loss: 3658297.0000\n",
            "Epoch 12/100\n",
            "2099/2099 [==============================] - 16s 8ms/step - loss: 3515815.2500\n",
            "Epoch 13/100\n",
            "2099/2099 [==============================] - 16s 8ms/step - loss: 3385081.5000\n",
            "Epoch 14/100\n",
            "2099/2099 [==============================] - 16s 8ms/step - loss: 3267545.0000\n",
            "Epoch 15/100\n",
            "2099/2099 [==============================] - 16s 8ms/step - loss: 3165754.7500\n",
            "Epoch 16/100\n",
            "2099/2099 [==============================] - 16s 8ms/step - loss: 3067757.7500\n",
            "Epoch 17/100\n",
            "2099/2099 [==============================] - 16s 8ms/step - loss: 2980470.2500\n",
            "Epoch 18/100\n",
            "2099/2099 [==============================] - 16s 8ms/step - loss: 2897655.2500\n",
            "Epoch 19/100\n",
            "2099/2099 [==============================] - 16s 7ms/step - loss: 2822960.7500\n",
            "Epoch 20/100\n",
            "2099/2099 [==============================] - 16s 7ms/step - loss: 2751774.7500\n",
            "Epoch 21/100\n",
            "2099/2099 [==============================] - 16s 7ms/step - loss: 2686743.7500\n",
            "Epoch 22/100\n",
            "2099/2099 [==============================] - 16s 8ms/step - loss: 2620681.5000\n",
            "Epoch 23/100\n",
            "2099/2099 [==============================] - 16s 8ms/step - loss: 2562369.2500\n",
            "Epoch 24/100\n",
            "2099/2099 [==============================] - 16s 8ms/step - loss: 2509394.2500\n",
            "Epoch 25/100\n",
            "2099/2099 [==============================] - 16s 8ms/step - loss: 2461644.7500\n",
            "Epoch 26/100\n",
            "2099/2099 [==============================] - 16s 8ms/step - loss: 2409999.2500\n",
            "Epoch 27/100\n",
            "2099/2099 [==============================] - 16s 8ms/step - loss: 2362226.0000\n",
            "Epoch 28/100\n",
            "2099/2099 [==============================] - 16s 8ms/step - loss: 2316730.5000\n",
            "Epoch 29/100\n",
            "2099/2099 [==============================] - 17s 8ms/step - loss: 2271357.5000\n",
            "Epoch 30/100\n",
            "2099/2099 [==============================] - 17s 8ms/step - loss: 2240336.0000\n",
            "Epoch 31/100\n",
            "2099/2099 [==============================] - 16s 8ms/step - loss: 2190069.0000\n",
            "Epoch 32/100\n",
            "2099/2099 [==============================] - 16s 8ms/step - loss: 2151623.2500\n",
            "Epoch 33/100\n",
            "2099/2099 [==============================] - 16s 8ms/step - loss: 2117365.0000\n",
            "Epoch 34/100\n",
            "2099/2099 [==============================] - 16s 8ms/step - loss: 2084735.5000\n",
            "Epoch 35/100\n",
            "2099/2099 [==============================] - 16s 8ms/step - loss: 2047840.3750\n",
            "Epoch 36/100\n",
            "2099/2099 [==============================] - 16s 8ms/step - loss: 2013957.1250\n",
            "Epoch 37/100\n",
            "2099/2099 [==============================] - 16s 8ms/step - loss: 1982894.6250\n",
            "Epoch 38/100\n",
            "2099/2099 [==============================] - 16s 8ms/step - loss: 1955060.3750\n",
            "Epoch 39/100\n",
            "2099/2099 [==============================] - 16s 8ms/step - loss: 1925266.0000\n",
            "Epoch 40/100\n",
            "2099/2099 [==============================] - 16s 8ms/step - loss: 1895939.7500\n",
            "Epoch 41/100\n",
            "2099/2099 [==============================] - 16s 8ms/step - loss: 1864202.6250\n",
            "Epoch 42/100\n",
            "2099/2099 [==============================] - 16s 8ms/step - loss: 1839254.5000\n",
            "Epoch 43/100\n",
            "2099/2099 [==============================] - 16s 8ms/step - loss: 1817738.7500\n",
            "Epoch 44/100\n",
            "2099/2099 [==============================] - 16s 8ms/step - loss: 1787970.8750\n",
            "Epoch 45/100\n",
            "2099/2099 [==============================] - 16s 8ms/step - loss: 1767633.2500\n",
            "Epoch 46/100\n",
            "2099/2099 [==============================] - 16s 8ms/step - loss: 1747256.7500\n",
            "Epoch 47/100\n",
            "2099/2099 [==============================] - 16s 8ms/step - loss: 1727653.2500\n",
            "Epoch 48/100\n",
            "2099/2099 [==============================] - 16s 8ms/step - loss: 1705146.2500\n",
            "Epoch 49/100\n",
            "2099/2099 [==============================] - 16s 8ms/step - loss: 1679265.5000\n",
            "Epoch 50/100\n",
            "2099/2099 [==============================] - 16s 8ms/step - loss: 1655007.5000\n",
            "Epoch 51/100\n",
            "2099/2099 [==============================] - 16s 8ms/step - loss: 1634981.3750\n",
            "Epoch 52/100\n",
            "2099/2099 [==============================] - 16s 8ms/step - loss: 1627335.5000\n",
            "Epoch 53/100\n",
            "2099/2099 [==============================] - 16s 8ms/step - loss: 1592787.7500\n",
            "Epoch 54/100\n",
            "2099/2099 [==============================] - 16s 8ms/step - loss: 1572714.2500\n",
            "Epoch 55/100\n",
            "2099/2099 [==============================] - 16s 8ms/step - loss: 1575442.0000\n",
            "Epoch 56/100\n",
            "2099/2099 [==============================] - 16s 8ms/step - loss: 1559365.7500\n",
            "Epoch 57/100\n",
            "2099/2099 [==============================] - 16s 8ms/step - loss: 1536024.8750\n",
            "Epoch 58/100\n",
            "2099/2099 [==============================] - 16s 8ms/step - loss: 1509270.7500\n",
            "Epoch 59/100\n",
            "2099/2099 [==============================] - 17s 8ms/step - loss: 1498379.2500\n",
            "Epoch 60/100\n",
            "2099/2099 [==============================] - 16s 8ms/step - loss: 1486335.2500\n",
            "Epoch 61/100\n",
            "2099/2099 [==============================] - 16s 8ms/step - loss: 1482072.1250\n",
            "Epoch 62/100\n",
            "2099/2099 [==============================] - 16s 8ms/step - loss: 1447979.3750\n",
            "Epoch 63/100\n",
            "2099/2099 [==============================] - 16s 8ms/step - loss: 1434354.0000\n",
            "Epoch 64/100\n",
            "2099/2099 [==============================] - 16s 8ms/step - loss: 1422631.6250\n",
            "Epoch 65/100\n",
            "2099/2099 [==============================] - 16s 8ms/step - loss: 1417545.3750\n",
            "Epoch 66/100\n",
            "2099/2099 [==============================] - 16s 8ms/step - loss: 1387140.8750\n",
            "Epoch 67/100\n",
            "2099/2099 [==============================] - 16s 8ms/step - loss: 1379001.8750\n",
            "Epoch 68/100\n",
            "2099/2099 [==============================] - 17s 8ms/step - loss: 1351092.3750\n",
            "Epoch 69/100\n",
            "2099/2099 [==============================] - 16s 8ms/step - loss: 1361928.8750\n",
            "Epoch 70/100\n",
            "2099/2099 [==============================] - 17s 8ms/step - loss: 1337285.2500\n",
            "Epoch 71/100\n",
            "2099/2099 [==============================] - 16s 8ms/step - loss: 1321973.7500\n",
            "Epoch 72/100\n",
            "2099/2099 [==============================] - 16s 8ms/step - loss: 1309140.3750\n",
            "Epoch 73/100\n",
            "2099/2099 [==============================] - 16s 8ms/step - loss: 1302172.7500\n",
            "Epoch 74/100\n",
            "2099/2099 [==============================] - 17s 8ms/step - loss: 1271428.2500\n",
            "Epoch 75/100\n",
            "2099/2099 [==============================] - 16s 8ms/step - loss: 1270311.5000\n",
            "Epoch 76/100\n",
            "2099/2099 [==============================] - 16s 8ms/step - loss: 1253437.3750\n",
            "Epoch 77/100\n",
            "2099/2099 [==============================] - 16s 8ms/step - loss: 1245104.7500\n",
            "Epoch 78/100\n",
            "2099/2099 [==============================] - 17s 8ms/step - loss: 1257323.5000\n",
            "Epoch 79/100\n",
            "2099/2099 [==============================] - 16s 8ms/step - loss: 1224426.0000\n",
            "Epoch 80/100\n",
            "2099/2099 [==============================] - 17s 8ms/step - loss: 1229589.2500\n",
            "Epoch 81/100\n",
            "2099/2099 [==============================] - 17s 8ms/step - loss: 1205750.6250\n",
            "Epoch 82/100\n",
            "2099/2099 [==============================] - 17s 8ms/step - loss: 1191946.8750\n",
            "Epoch 83/100\n",
            "2099/2099 [==============================] - 17s 8ms/step - loss: 1192362.2500\n",
            "Epoch 84/100\n",
            "2099/2099 [==============================] - 17s 8ms/step - loss: 1190440.8750\n",
            "Epoch 85/100\n",
            "2099/2099 [==============================] - 17s 8ms/step - loss: 1179854.8750\n",
            "Epoch 86/100\n",
            "2099/2099 [==============================] - 17s 8ms/step - loss: 1159496.7500\n",
            "Epoch 87/100\n",
            "2099/2099 [==============================] - 17s 8ms/step - loss: 1149203.2500\n",
            "Epoch 88/100\n",
            "2099/2099 [==============================] - 17s 8ms/step - loss: 1135246.8750\n",
            "Epoch 89/100\n",
            "2099/2099 [==============================] - 17s 8ms/step - loss: 1128193.5000\n",
            "Epoch 90/100\n",
            "2099/2099 [==============================] - 17s 8ms/step - loss: 1120923.1250\n",
            "Epoch 91/100\n",
            "2099/2099 [==============================] - 17s 8ms/step - loss: 1138895.7500\n",
            "Epoch 92/100\n",
            "2099/2099 [==============================] - 17s 8ms/step - loss: 1104727.7500\n",
            "Epoch 93/100\n",
            "2099/2099 [==============================] - 17s 8ms/step - loss: 1115293.6250\n",
            "Epoch 94/100\n",
            "2099/2099 [==============================] - 17s 8ms/step - loss: 1096251.2500\n",
            "Epoch 95/100\n",
            "2099/2099 [==============================] - 16s 8ms/step - loss: 1105891.3750\n",
            "Epoch 96/100\n",
            "2099/2099 [==============================] - 17s 8ms/step - loss: 1111157.6250\n",
            "Epoch 97/100\n",
            "2099/2099 [==============================] - 17s 8ms/step - loss: 1080978.6250\n",
            "Epoch 98/100\n",
            "2099/2099 [==============================] - 16s 8ms/step - loss: 1064879.3750\n",
            "Epoch 99/100\n",
            "2099/2099 [==============================] - 17s 8ms/step - loss: 1095352.6250\n",
            "Epoch 100/100\n",
            "2099/2099 [==============================] - 17s 8ms/step - loss: 1052952.3750\n"
          ]
        }
      ]
    },
    {
      "cell_type": "code",
      "source": [
        "train_pred=pd.DataFrame(model.predict(x), columns=['yhat'], index=[x[0] for x in train_prepared ])\n",
        "train_pred.head()"
      ],
      "metadata": {
        "colab": {
          "base_uri": "https://localhost:8080/",
          "height": 223
        },
        "id": "RtByewv3UgfD",
        "outputId": "4339bc6c-a30d-497e-93f2-2ed819a5400d"
      },
      "execution_count": 170,
      "outputs": [
        {
          "output_type": "stream",
          "name": "stdout",
          "text": [
            "2099/2099 [==============================] - 6s 3ms/step\n"
          ]
        },
        {
          "output_type": "execute_result",
          "data": {
            "text/plain": [
              "                  yhat\n",
              "2020-03-14 -823.790466\n",
              "2020-03-15 -826.983459\n",
              "2020-03-16 -709.637878\n",
              "2020-03-17 -763.710266\n",
              "2020-03-18 -843.683044"
            ],
            "text/html": [
              "\n",
              "  <div id=\"df-00f7f12c-1500-414d-9d3e-d86aa3c06431\" class=\"colab-df-container\">\n",
              "    <div>\n",
              "<style scoped>\n",
              "    .dataframe tbody tr th:only-of-type {\n",
              "        vertical-align: middle;\n",
              "    }\n",
              "\n",
              "    .dataframe tbody tr th {\n",
              "        vertical-align: top;\n",
              "    }\n",
              "\n",
              "    .dataframe thead th {\n",
              "        text-align: right;\n",
              "    }\n",
              "</style>\n",
              "<table border=\"1\" class=\"dataframe\">\n",
              "  <thead>\n",
              "    <tr style=\"text-align: right;\">\n",
              "      <th></th>\n",
              "      <th>yhat</th>\n",
              "    </tr>\n",
              "  </thead>\n",
              "  <tbody>\n",
              "    <tr>\n",
              "      <th>2020-03-14</th>\n",
              "      <td>-823.790466</td>\n",
              "    </tr>\n",
              "    <tr>\n",
              "      <th>2020-03-15</th>\n",
              "      <td>-826.983459</td>\n",
              "    </tr>\n",
              "    <tr>\n",
              "      <th>2020-03-16</th>\n",
              "      <td>-709.637878</td>\n",
              "    </tr>\n",
              "    <tr>\n",
              "      <th>2020-03-17</th>\n",
              "      <td>-763.710266</td>\n",
              "    </tr>\n",
              "    <tr>\n",
              "      <th>2020-03-18</th>\n",
              "      <td>-843.683044</td>\n",
              "    </tr>\n",
              "  </tbody>\n",
              "</table>\n",
              "</div>\n",
              "    <div class=\"colab-df-buttons\">\n",
              "\n",
              "  <div class=\"colab-df-container\">\n",
              "    <button class=\"colab-df-convert\" onclick=\"convertToInteractive('df-00f7f12c-1500-414d-9d3e-d86aa3c06431')\"\n",
              "            title=\"Convert this dataframe to an interactive table.\"\n",
              "            style=\"display:none;\">\n",
              "\n",
              "  <svg xmlns=\"http://www.w3.org/2000/svg\" height=\"24px\" viewBox=\"0 -960 960 960\">\n",
              "    <path d=\"M120-120v-720h720v720H120Zm60-500h600v-160H180v160Zm220 220h160v-160H400v160Zm0 220h160v-160H400v160ZM180-400h160v-160H180v160Zm440 0h160v-160H620v160ZM180-180h160v-160H180v160Zm440 0h160v-160H620v160Z\"/>\n",
              "  </svg>\n",
              "    </button>\n",
              "\n",
              "  <style>\n",
              "    .colab-df-container {\n",
              "      display:flex;\n",
              "      gap: 12px;\n",
              "    }\n",
              "\n",
              "    .colab-df-convert {\n",
              "      background-color: #E8F0FE;\n",
              "      border: none;\n",
              "      border-radius: 50%;\n",
              "      cursor: pointer;\n",
              "      display: none;\n",
              "      fill: #1967D2;\n",
              "      height: 32px;\n",
              "      padding: 0 0 0 0;\n",
              "      width: 32px;\n",
              "    }\n",
              "\n",
              "    .colab-df-convert:hover {\n",
              "      background-color: #E2EBFA;\n",
              "      box-shadow: 0px 1px 2px rgba(60, 64, 67, 0.3), 0px 1px 3px 1px rgba(60, 64, 67, 0.15);\n",
              "      fill: #174EA6;\n",
              "    }\n",
              "\n",
              "    .colab-df-buttons div {\n",
              "      margin-bottom: 4px;\n",
              "    }\n",
              "\n",
              "    [theme=dark] .colab-df-convert {\n",
              "      background-color: #3B4455;\n",
              "      fill: #D2E3FC;\n",
              "    }\n",
              "\n",
              "    [theme=dark] .colab-df-convert:hover {\n",
              "      background-color: #434B5C;\n",
              "      box-shadow: 0px 1px 3px 1px rgba(0, 0, 0, 0.15);\n",
              "      filter: drop-shadow(0px 1px 2px rgba(0, 0, 0, 0.3));\n",
              "      fill: #FFFFFF;\n",
              "    }\n",
              "  </style>\n",
              "\n",
              "    <script>\n",
              "      const buttonEl =\n",
              "        document.querySelector('#df-00f7f12c-1500-414d-9d3e-d86aa3c06431 button.colab-df-convert');\n",
              "      buttonEl.style.display =\n",
              "        google.colab.kernel.accessAllowed ? 'block' : 'none';\n",
              "\n",
              "      async function convertToInteractive(key) {\n",
              "        const element = document.querySelector('#df-00f7f12c-1500-414d-9d3e-d86aa3c06431');\n",
              "        const dataTable =\n",
              "          await google.colab.kernel.invokeFunction('convertToInteractive',\n",
              "                                                    [key], {});\n",
              "        if (!dataTable) return;\n",
              "\n",
              "        const docLinkHtml = 'Like what you see? Visit the ' +\n",
              "          '<a target=\"_blank\" href=https://colab.research.google.com/notebooks/data_table.ipynb>data table notebook</a>'\n",
              "          + ' to learn more about interactive tables.';\n",
              "        element.innerHTML = '';\n",
              "        dataTable['output_type'] = 'display_data';\n",
              "        await google.colab.output.renderOutput(dataTable, element);\n",
              "        const docLink = document.createElement('div');\n",
              "        docLink.innerHTML = docLinkHtml;\n",
              "        element.appendChild(docLink);\n",
              "      }\n",
              "    </script>\n",
              "  </div>\n",
              "\n",
              "\n",
              "<div id=\"df-ccf2d3cd-3ea0-4b90-b85e-232004ce0650\">\n",
              "  <button class=\"colab-df-quickchart\" onclick=\"quickchart('df-ccf2d3cd-3ea0-4b90-b85e-232004ce0650')\"\n",
              "            title=\"Suggest charts\"\n",
              "            style=\"display:none;\">\n",
              "\n",
              "<svg xmlns=\"http://www.w3.org/2000/svg\" height=\"24px\"viewBox=\"0 0 24 24\"\n",
              "     width=\"24px\">\n",
              "    <g>\n",
              "        <path d=\"M19 3H5c-1.1 0-2 .9-2 2v14c0 1.1.9 2 2 2h14c1.1 0 2-.9 2-2V5c0-1.1-.9-2-2-2zM9 17H7v-7h2v7zm4 0h-2V7h2v10zm4 0h-2v-4h2v4z\"/>\n",
              "    </g>\n",
              "</svg>\n",
              "  </button>\n",
              "\n",
              "<style>\n",
              "  .colab-df-quickchart {\n",
              "      --bg-color: #E8F0FE;\n",
              "      --fill-color: #1967D2;\n",
              "      --hover-bg-color: #E2EBFA;\n",
              "      --hover-fill-color: #174EA6;\n",
              "      --disabled-fill-color: #AAA;\n",
              "      --disabled-bg-color: #DDD;\n",
              "  }\n",
              "\n",
              "  [theme=dark] .colab-df-quickchart {\n",
              "      --bg-color: #3B4455;\n",
              "      --fill-color: #D2E3FC;\n",
              "      --hover-bg-color: #434B5C;\n",
              "      --hover-fill-color: #FFFFFF;\n",
              "      --disabled-bg-color: #3B4455;\n",
              "      --disabled-fill-color: #666;\n",
              "  }\n",
              "\n",
              "  .colab-df-quickchart {\n",
              "    background-color: var(--bg-color);\n",
              "    border: none;\n",
              "    border-radius: 50%;\n",
              "    cursor: pointer;\n",
              "    display: none;\n",
              "    fill: var(--fill-color);\n",
              "    height: 32px;\n",
              "    padding: 0;\n",
              "    width: 32px;\n",
              "  }\n",
              "\n",
              "  .colab-df-quickchart:hover {\n",
              "    background-color: var(--hover-bg-color);\n",
              "    box-shadow: 0 1px 2px rgba(60, 64, 67, 0.3), 0 1px 3px 1px rgba(60, 64, 67, 0.15);\n",
              "    fill: var(--button-hover-fill-color);\n",
              "  }\n",
              "\n",
              "  .colab-df-quickchart-complete:disabled,\n",
              "  .colab-df-quickchart-complete:disabled:hover {\n",
              "    background-color: var(--disabled-bg-color);\n",
              "    fill: var(--disabled-fill-color);\n",
              "    box-shadow: none;\n",
              "  }\n",
              "\n",
              "  .colab-df-spinner {\n",
              "    border: 2px solid var(--fill-color);\n",
              "    border-color: transparent;\n",
              "    border-bottom-color: var(--fill-color);\n",
              "    animation:\n",
              "      spin 1s steps(1) infinite;\n",
              "  }\n",
              "\n",
              "  @keyframes spin {\n",
              "    0% {\n",
              "      border-color: transparent;\n",
              "      border-bottom-color: var(--fill-color);\n",
              "      border-left-color: var(--fill-color);\n",
              "    }\n",
              "    20% {\n",
              "      border-color: transparent;\n",
              "      border-left-color: var(--fill-color);\n",
              "      border-top-color: var(--fill-color);\n",
              "    }\n",
              "    30% {\n",
              "      border-color: transparent;\n",
              "      border-left-color: var(--fill-color);\n",
              "      border-top-color: var(--fill-color);\n",
              "      border-right-color: var(--fill-color);\n",
              "    }\n",
              "    40% {\n",
              "      border-color: transparent;\n",
              "      border-right-color: var(--fill-color);\n",
              "      border-top-color: var(--fill-color);\n",
              "    }\n",
              "    60% {\n",
              "      border-color: transparent;\n",
              "      border-right-color: var(--fill-color);\n",
              "    }\n",
              "    80% {\n",
              "      border-color: transparent;\n",
              "      border-right-color: var(--fill-color);\n",
              "      border-bottom-color: var(--fill-color);\n",
              "    }\n",
              "    90% {\n",
              "      border-color: transparent;\n",
              "      border-bottom-color: var(--fill-color);\n",
              "    }\n",
              "  }\n",
              "</style>\n",
              "\n",
              "  <script>\n",
              "    async function quickchart(key) {\n",
              "      const quickchartButtonEl =\n",
              "        document.querySelector('#' + key + ' button');\n",
              "      quickchartButtonEl.disabled = true;  // To prevent multiple clicks.\n",
              "      quickchartButtonEl.classList.add('colab-df-spinner');\n",
              "      try {\n",
              "        const charts = await google.colab.kernel.invokeFunction(\n",
              "            'suggestCharts', [key], {});\n",
              "      } catch (error) {\n",
              "        console.error('Error during call to suggestCharts:', error);\n",
              "      }\n",
              "      quickchartButtonEl.classList.remove('colab-df-spinner');\n",
              "      quickchartButtonEl.classList.add('colab-df-quickchart-complete');\n",
              "    }\n",
              "    (() => {\n",
              "      let quickchartButtonEl =\n",
              "        document.querySelector('#df-ccf2d3cd-3ea0-4b90-b85e-232004ce0650 button');\n",
              "      quickchartButtonEl.style.display =\n",
              "        google.colab.kernel.accessAllowed ? 'block' : 'none';\n",
              "    })();\n",
              "  </script>\n",
              "</div>\n",
              "    </div>\n",
              "  </div>\n"
            ]
          },
          "metadata": {},
          "execution_count": 170
        }
      ]
    },
    {
      "cell_type": "code",
      "source": [
        "train_gt= pd.DataFrame(y, columns=['y'], index=[x[0] for x in train_prepared ])\n",
        "pd.concat([train_gt, train_pred], axis=1).plot(figsize=(20,10))\n",
        "plt.legend(['train_gt', 'train_pred'])"
      ],
      "metadata": {
        "colab": {
          "base_uri": "https://localhost:8080/",
          "height": 784
        },
        "id": "oCIqYKKCUkGz",
        "outputId": "36b43b8b-6cf6-488a-b2da-cb472f240cf9"
      },
      "execution_count": 171,
      "outputs": [
        {
          "output_type": "execute_result",
          "data": {
            "text/plain": [
              "<matplotlib.legend.Legend at 0x7ad1b49c8df0>"
            ]
          },
          "metadata": {},
          "execution_count": 171
        },
        {
          "output_type": "display_data",
          "data": {
            "text/plain": [
              "<Figure size 2000x1000 with 1 Axes>"
            ],
            "image/png": "[encoded data removed]"
          },
          "metadata": {}
        }
      ]
    },
    {
      "cell_type": "code",
      "source": [
        "test_pred=model.predict(np.array([x[2].reshape(14,42) for x in test_prepared]))\n",
        "test_pred=pd.DataFrame(test_pred, columns=['yhat'], index=[x[0] for x in test_prepared ])\n",
        "test_gt=pd.DataFrame([x[1] for x in test_prepared], columns=['y'], index=[x[0] for x in test_prepared ])\n",
        "pd.concat([test_gt, test_pred], axis=1).plot()\n",
        "plt.legend(['test_gt', 'test_pred'])"
      ],
      "metadata": {
        "colab": {
          "base_uri": "https://localhost:8080/",
          "height": 448
        },
        "id": "ohjFbs-3Uqp6",
        "outputId": "0c7de9b1-186b-4e38-937d-c5160b38c2fa"
      },
      "execution_count": 177,
      "outputs": [
        {
          "output_type": "stream",
          "name": "stdout",
          "text": [
            "820/820 [==============================] - 3s 4ms/step\n"
          ]
        },
        {
          "output_type": "execute_result",
          "data": {
            "text/plain": [
              "<matplotlib.legend.Legend at 0x7ad1b4af39a0>"
            ]
          },
          "metadata": {},
          "execution_count": 177
        },
        {
          "output_type": "display_data",
          "data": {
            "text/plain": [
              "<Figure size 640x480 with 1 Axes>"
            ],
            "image/png": "[encoded data removed]"
          },
          "metadata": {}
        }
      ]
    },
    {
      "cell_type": "code",
      "source": [
        "train_pred"
      ],
      "metadata": {
        "colab": {
          "base_uri": "https://localhost:8080/",
          "height": 423
        },
        "id": "QSZ-Sgn0930-",
        "outputId": "5ec5269b-2ae8-4c67-b77d-3e34b7bfb38c"
      },
      "execution_count": 180,
      "outputs": [
        {
          "output_type": "execute_result",
          "data": {
            "text/plain": [
              "                  yhat\n",
              "2020-03-14 -823.790466\n",
              "2020-03-15 -826.983459\n",
              "2020-03-16 -709.637878\n",
              "2020-03-17 -763.710266\n",
              "2020-03-18 -843.683044\n",
              "...                ...\n",
              "2021-12-27  173.265717\n",
              "2021-12-28  149.339081\n",
              "2021-12-29   78.461639\n",
              "2021-12-30   80.154053\n",
              "2021-12-31   79.616119\n",
              "\n",
              "[67139 rows x 1 columns]"
            ],
            "text/html": [
              "\n",
              "  <div id=\"df-db07e476-1529-403b-8d46-d9b65d321c8e\" class=\"colab-df-container\">\n",
              "    <div>\n",
              "<style scoped>\n",
              "    .dataframe tbody tr th:only-of-type {\n",
              "        vertical-align: middle;\n",
              "    }\n",
              "\n",
              "    .dataframe tbody tr th {\n",
              "        vertical-align: top;\n",
              "    }\n",
              "\n",
              "    .dataframe thead th {\n",
              "        text-align: right;\n",
              "    }\n",
              "</style>\n",
              "<table border=\"1\" class=\"dataframe\">\n",
              "  <thead>\n",
              "    <tr style=\"text-align: right;\">\n",
              "      <th></th>\n",
              "      <th>yhat</th>\n",
              "    </tr>\n",
              "  </thead>\n",
              "  <tbody>\n",
              "    <tr>\n",
              "      <th>2020-03-14</th>\n",
              "      <td>-823.790466</td>\n",
              "    </tr>\n",
              "    <tr>\n",
              "      <th>2020-03-15</th>\n",
              "      <td>-826.983459</td>\n",
              "    </tr>\n",
              "    <tr>\n",
              "      <th>2020-03-16</th>\n",
              "      <td>-709.637878</td>\n",
              "    </tr>\n",
              "    <tr>\n",
              "      <th>2020-03-17</th>\n",
              "      <td>-763.710266</td>\n",
              "    </tr>\n",
              "    <tr>\n",
              "      <th>2020-03-18</th>\n",
              "      <td>-843.683044</td>\n",
              "    </tr>\n",
              "    <tr>\n",
              "      <th>...</th>\n",
              "      <td>...</td>\n",
              "    </tr>\n",
              "    <tr>\n",
              "      <th>2021-12-27</th>\n",
              "      <td>173.265717</td>\n",
              "    </tr>\n",
              "    <tr>\n",
              "      <th>2021-12-28</th>\n",
              "      <td>149.339081</td>\n",
              "    </tr>\n",
              "    <tr>\n",
              "      <th>2021-12-29</th>\n",
              "      <td>78.461639</td>\n",
              "    </tr>\n",
              "    <tr>\n",
              "      <th>2021-12-30</th>\n",
              "      <td>80.154053</td>\n",
              "    </tr>\n",
              "    <tr>\n",
              "      <th>2021-12-31</th>\n",
              "      <td>79.616119</td>\n",
              "    </tr>\n",
              "  </tbody>\n",
              "</table>\n",
              "<p>67139 rows × 1 columns</p>\n",
              "</div>\n",
              "    <div class=\"colab-df-buttons\">\n",
              "\n",
              "  <div class=\"colab-df-container\">\n",
              "    <button class=\"colab-df-convert\" onclick=\"convertToInteractive('df-db07e476-1529-403b-8d46-d9b65d321c8e')\"\n",
              "            title=\"Convert this dataframe to an interactive table.\"\n",
              "            style=\"display:none;\">\n",
              "\n",
              "  <svg xmlns=\"http://www.w3.org/2000/svg\" height=\"24px\" viewBox=\"0 -960 960 960\">\n",
              "    <path d=\"M120-120v-720h720v720H120Zm60-500h600v-160H180v160Zm220 220h160v-160H400v160Zm0 220h160v-160H400v160ZM180-400h160v-160H180v160Zm440 0h160v-160H620v160ZM180-180h160v-160H180v160Zm440 0h160v-160H620v160Z\"/>\n",
              "  </svg>\n",
              "    </button>\n",
              "\n",
              "  <style>\n",
              "    .colab-df-container {\n",
              "      display:flex;\n",
              "      gap: 12px;\n",
              "    }\n",
              "\n",
              "    .colab-df-convert {\n",
              "      background-color: #E8F0FE;\n",
              "      border: none;\n",
              "      border-radius: 50%;\n",
              "      cursor: pointer;\n",
              "      display: none;\n",
              "      fill: #1967D2;\n",
              "      height: 32px;\n",
              "      padding: 0 0 0 0;\n",
              "      width: 32px;\n",
              "    }\n",
              "\n",
              "    .colab-df-convert:hover {\n",
              "      background-color: #E2EBFA;\n",
              "      box-shadow: 0px 1px 2px rgba(60, 64, 67, 0.3), 0px 1px 3px 1px rgba(60, 64, 67, 0.15);\n",
              "      fill: #174EA6;\n",
              "    }\n",
              "\n",
              "    .colab-df-buttons div {\n",
              "      margin-bottom: 4px;\n",
              "    }\n",
              "\n",
              "    [theme=dark] .colab-df-convert {\n",
              "      background-color: #3B4455;\n",
              "      fill: #D2E3FC;\n",
              "    }\n",
              "\n",
              "    [theme=dark] .colab-df-convert:hover {\n",
              "      background-color: #434B5C;\n",
              "      box-shadow: 0px 1px 3px 1px rgba(0, 0, 0, 0.15);\n",
              "      filter: drop-shadow(0px 1px 2px rgba(0, 0, 0, 0.3));\n",
              "      fill: #FFFFFF;\n",
              "    }\n",
              "  </style>\n",
              "\n",
              "    <script>\n",
              "      const buttonEl =\n",
              "        document.querySelector('#df-db07e476-1529-403b-8d46-d9b65d321c8e button.colab-df-convert');\n",
              "      buttonEl.style.display =\n",
              "        google.colab.kernel.accessAllowed ? 'block' : 'none';\n",
              "\n",
              "      async function convertToInteractive(key) {\n",
              "        const element = document.querySelector('#df-db07e476-1529-403b-8d46-d9b65d321c8e');\n",
              "        const dataTable =\n",
              "          await google.colab.kernel.invokeFunction('convertToInteractive',\n",
              "                                                    [key], {});\n",
              "        if (!dataTable) return;\n",
              "\n",
              "        const docLinkHtml = 'Like what you see? Visit the ' +\n",
              "          '<a target=\"_blank\" href=https://colab.research.google.com/notebooks/data_table.ipynb>data table notebook</a>'\n",
              "          + ' to learn more about interactive tables.';\n",
              "        element.innerHTML = '';\n",
              "        dataTable['output_type'] = 'display_data';\n",
              "        await google.colab.output.renderOutput(dataTable, element);\n",
              "        const docLink = document.createElement('div');\n",
              "        docLink.innerHTML = docLinkHtml;\n",
              "        element.appendChild(docLink);\n",
              "      }\n",
              "    </script>\n",
              "  </div>\n",
              "\n",
              "\n",
              "<div id=\"df-0d2420d5-7a42-4896-83b5-4286b2ebf5f8\">\n",
              "  <button class=\"colab-df-quickchart\" onclick=\"quickchart('df-0d2420d5-7a42-4896-83b5-4286b2ebf5f8')\"\n",
              "            title=\"Suggest charts\"\n",
              "            style=\"display:none;\">\n",
              "\n",
              "<svg xmlns=\"http://www.w3.org/2000/svg\" height=\"24px\"viewBox=\"0 0 24 24\"\n",
              "     width=\"24px\">\n",
              "    <g>\n",
              "        <path d=\"M19 3H5c-1.1 0-2 .9-2 2v14c0 1.1.9 2 2 2h14c1.1 0 2-.9 2-2V5c0-1.1-.9-2-2-2zM9 17H7v-7h2v7zm4 0h-2V7h2v10zm4 0h-2v-4h2v4z\"/>\n",
              "    </g>\n",
              "</svg>\n",
              "  </button>\n",
              "\n",
              "<style>\n",
              "  .colab-df-quickchart {\n",
              "      --bg-color: #E8F0FE;\n",
              "      --fill-color: #1967D2;\n",
              "      --hover-bg-color: #E2EBFA;\n",
              "      --hover-fill-color: #174EA6;\n",
              "      --disabled-fill-color: #AAA;\n",
              "      --disabled-bg-color: #DDD;\n",
              "  }\n",
              "\n",
              "  [theme=dark] .colab-df-quickchart {\n",
              "      --bg-color: #3B4455;\n",
              "      --fill-color: #D2E3FC;\n",
              "      --hover-bg-color: #434B5C;\n",
              "      --hover-fill-color: #FFFFFF;\n",
              "      --disabled-bg-color: #3B4455;\n",
              "      --disabled-fill-color: #666;\n",
              "  }\n",
              "\n",
              "  .colab-df-quickchart {\n",
              "    background-color: var(--bg-color);\n",
              "    border: none;\n",
              "    border-radius: 50%;\n",
              "    cursor: pointer;\n",
              "    display: none;\n",
              "    fill: var(--fill-color);\n",
              "    height: 32px;\n",
              "    padding: 0;\n",
              "    width: 32px;\n",
              "  }\n",
              "\n",
              "  .colab-df-quickchart:hover {\n",
              "    background-color: var(--hover-bg-color);\n",
              "    box-shadow: 0 1px 2px rgba(60, 64, 67, 0.3), 0 1px 3px 1px rgba(60, 64, 67, 0.15);\n",
              "    fill: var(--button-hover-fill-color);\n",
              "  }\n",
              "\n",
              "  .colab-df-quickchart-complete:disabled,\n",
              "  .colab-df-quickchart-complete:disabled:hover {\n",
              "    background-color: var(--disabled-bg-color);\n",
              "    fill: var(--disabled-fill-color);\n",
              "    box-shadow: none;\n",
              "  }\n",
              "\n",
              "  .colab-df-spinner {\n",
              "    border: 2px solid var(--fill-color);\n",
              "    border-color: transparent;\n",
              "    border-bottom-color: var(--fill-color);\n",
              "    animation:\n",
              "      spin 1s steps(1) infinite;\n",
              "  }\n",
              "\n",
              "  @keyframes spin {\n",
              "    0% {\n",
              "      border-color: transparent;\n",
              "      border-bottom-color: var(--fill-color);\n",
              "      border-left-color: var(--fill-color);\n",
              "    }\n",
              "    20% {\n",
              "      border-color: transparent;\n",
              "      border-left-color: var(--fill-color);\n",
              "      border-top-color: var(--fill-color);\n",
              "    }\n",
              "    30% {\n",
              "      border-color: transparent;\n",
              "      border-left-color: var(--fill-color);\n",
              "      border-top-color: var(--fill-color);\n",
              "      border-right-color: var(--fill-color);\n",
              "    }\n",
              "    40% {\n",
              "      border-color: transparent;\n",
              "      border-right-color: var(--fill-color);\n",
              "      border-top-color: var(--fill-color);\n",
              "    }\n",
              "    60% {\n",
              "      border-color: transparent;\n",
              "      border-right-color: var(--fill-color);\n",
              "    }\n",
              "    80% {\n",
              "      border-color: transparent;\n",
              "      border-right-color: var(--fill-color);\n",
              "      border-bottom-color: var(--fill-color);\n",
              "    }\n",
              "    90% {\n",
              "      border-color: transparent;\n",
              "      border-bottom-color: var(--fill-color);\n",
              "    }\n",
              "  }\n",
              "</style>\n",
              "\n",
              "  <script>\n",
              "    async function quickchart(key) {\n",
              "      const quickchartButtonEl =\n",
              "        document.querySelector('#' + key + ' button');\n",
              "      quickchartButtonEl.disabled = true;  // To prevent multiple clicks.\n",
              "      quickchartButtonEl.classList.add('colab-df-spinner');\n",
              "      try {\n",
              "        const charts = await google.colab.kernel.invokeFunction(\n",
              "            'suggestCharts', [key], {});\n",
              "      } catch (error) {\n",
              "        console.error('Error during call to suggestCharts:', error);\n",
              "      }\n",
              "      quickchartButtonEl.classList.remove('colab-df-spinner');\n",
              "      quickchartButtonEl.classList.add('colab-df-quickchart-complete');\n",
              "    }\n",
              "    (() => {\n",
              "      let quickchartButtonEl =\n",
              "        document.querySelector('#df-0d2420d5-7a42-4896-83b5-4286b2ebf5f8 button');\n",
              "      quickchartButtonEl.style.display =\n",
              "        google.colab.kernel.accessAllowed ? 'block' : 'none';\n",
              "    })();\n",
              "  </script>\n",
              "</div>\n",
              "    </div>\n",
              "  </div>\n"
            ]
          },
          "metadata": {},
          "execution_count": 180
        }
      ]
    },
    {
      "cell_type": "code",
      "source": [
        "model_performance(train_gt, train_pred)"
      ],
      "metadata": {
        "colab": {
          "base_uri": "https://localhost:8080/",
          "height": 70
        },
        "id": "eS9YlU0K7Dj0",
        "outputId": "6481ec51-36bd-4f1a-c735-a92fca05dabf"
      },
      "execution_count": 175,
      "outputs": [
        {
          "output_type": "stream",
          "name": "stderr",
          "text": [
            "<ipython-input-2-1f5806c96e77>:3: RuntimeWarning: divide by zero encountered in divide\n",
            "  return np.mean(np.abs((y_true-y_pred)/y_true)) * 100\n"
          ]
        },
        {
          "output_type": "execute_result",
          "data": {
            "text/plain": [
              "'RMSE: 1040.431959050048, MAPE: inf'"
            ],
            "application/vnd.google.colaboratory.intrinsic+json": {
              "type": "string"
            }
          },
          "metadata": {},
          "execution_count": 175
        }
      ]
    },
    {
      "cell_type": "code",
      "source": [
        "model_performance(test_gt, test_pred)"
      ],
      "metadata": {
        "id": "M1jDB9uN9y24"
      },
      "execution_count": null,
      "outputs": []
    }
  ]
}