{
  "nbformat": 4,
  "nbformat_minor": 0,
  "metadata": {
    "colab": {
      "provenance": []
    },
    "kernelspec": {
      "name": "python3",
      "display_name": "Python 3"
    },
    "language_info": {
      "name": "python"
    }
  },
  "cells": [
    {
      "cell_type": "code",
      "execution_count": null,
      "metadata": {
        "id": "rNzWJgYevvtm"
      },
      "outputs": [],
      "source": [
        "import pandas as pd\n",
        "epidemiology = pd.read_csv(\"https://storage.googleapis.com/covid19-open-data/v3/epidemiology.csv\")\n",
        "demographics = pd.read_csv(\"https://storage.googleapis.com/covid19-open-data/v3/demographics.csv\")\n",
        "economy = pd.read_csv(\"https://storage.googleapis.com/covid19-open-data/v3/economy.csv\")\n",
        "emergency_declaration = pd.read_csv(\"https://storage.googleapis.com/covid19-open-data/v3/lawatlas-emergency-declarations.csv\")\n",
        "geography = pd.read_csv(\"https://storage.googleapis.com/covid19-open-data/v3/geography.csv\")\n",
        "health = pd.read_csv(\"https://storage.googleapis.com/covid19-open-data/v3/health.csv\")\n",
        "hospitalization = pd.read_csv(\"https://storage.googleapis.com/covid19-open-data/v3/hospitalizations.csv\")\n",
        "mobility = pd.read_csv(\"https://storage.googleapis.com/covid19-open-data/v3/mobility.csv\")\n",
        "search_trends = pd.read_csv(\"https://storage.googleapis.com/covid19-open-data/v3/google-search-trends.csv\")\n",
        "vaccination = pd.read_csv(\"https://storage.googleapis.com/covid19-open-data/v3/vaccinations.csv\")\n",
        "government_response = pd.read_csv(\"https://storage.googleapis.com/covid19-open-data/v3/oxford-government-response.csv\")\n",
        "world_bank = pd.read_csv(\"https://storage.googleapis.com/covid19-open-data/v3/worldbank.csv\")\n",
        "epi_by_age = pd.read_csv(\"https://storage.googleapis.com/covid19-open-data/v3/by-age.csv\")\n",
        "epi_by_sex = pd.read_csv(\"https://storage.googleapis.com/covid19-open-data/v3/by-sex.csv\")\n",
        "key = pd.read_csv(\"https://storage.googleapis.com/covid19-open-data/v3/index.csv\")"
      ]
    },
    {
      "cell_type": "code",
      "source": [
        "tables = [epidemiology, demographics, economy, emergency_declaration, geography, health, hospitalization, mobility, search_trends, vaccination,\n",
        "        government_response, world_bank, epi_by_age, epi_by_sex, key]"
      ],
      "metadata": {
        "id": "oMy6a2bNv_e5"
      },
      "execution_count": null,
      "outputs": []
    },
    {
      "cell_type": "code",
      "source": [
        "def get_df_name(df):\n",
        "    name =[x for x in globals() if globals()[x] is df][0]\n",
        "    return name\n",
        "\n",
        "for table in tables:\n",
        "  print(get_df_name(table), table.shape)"
      ],
      "metadata": {
        "id": "-AFl6t0IyUyZ"
      },
      "execution_count": null,
      "outputs": []
    },
    {
      "cell_type": "markdown",
      "source": [
        "These datasets can be aggregated to make a table that is larger than 100,000 rows $\\times$ 50 columns. These datasets have the common `location_key` and  `date`. An example is printed out."
      ],
      "metadata": {
        "id": "qxTzf3Uw8Qpa"
      }
    },
    {
      "cell_type": "code",
      "source": [
        "epidemiology.head()"
      ],
      "metadata": {
        "id": "rQSuC62g9BID"
      },
      "execution_count": null,
      "outputs": []
    },
    {
      "cell_type": "code",
      "source": [
        "vaccination.head()"
      ],
      "metadata": {
        "id": "-zU0EWOl9GYk"
      },
      "execution_count": null,
      "outputs": []
    }
  ]
}